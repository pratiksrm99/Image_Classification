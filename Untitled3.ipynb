{
  "nbformat": 4,
  "nbformat_minor": 0,
  "metadata": {
    "colab": {
      "provenance": [],
      "mount_file_id": "1o8wt11ufBl8xFl7dBNpQUdzOzWxnbqj4",
      "authorship_tag": "ABX9TyPDcfmJlkwNeCPnATM5QRlo",
      "include_colab_link": true
    },
    "kernelspec": {
      "name": "python3",
      "display_name": "Python 3"
    },
    "language_info": {
      "name": "python"
    }
  },
  "cells": [
    {
      "cell_type": "markdown",
      "metadata": {
        "id": "view-in-github",
        "colab_type": "text"
      },
      "source": [
        "<a href=\"https://colab.research.google.com/github/pratiksrm99/Image_Classification/blob/main/Untitled3.ipynb\" target=\"_parent\"><img src=\"https://colab.research.google.com/assets/colab-badge.svg\" alt=\"Open In Colab\"/></a>"
      ]
    },
    {
      "cell_type": "markdown",
      "source": [
        "# **Deep Learning project**\n",
        "\n",
        "1.   Create a Vgg19 model for classifying Imagenet images\n",
        "2.   Create a Flask app to upload a image\n",
        "3.   Predict from the Flask app with the images uploaded\n",
        "\n"
      ],
      "metadata": {
        "id": "gV8vN4bcUgqn"
      }
    },
    {
      "cell_type": "code",
      "source": [],
      "metadata": {
        "id": "6KixnFgY6iaQ"
      },
      "execution_count": null,
      "outputs": []
    }
  ]
}